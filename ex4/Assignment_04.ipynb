{
 "cells": [
  {
   "cell_type": "code",
   "execution_count": 1,
   "metadata": {
    "executionInfo": {
     "elapsed": 1857,
     "status": "ok",
     "timestamp": 1731004992958,
     "user": {
      "displayName": "taravat part",
      "userId": "08819793569330919526"
     },
     "user_tz": -60
    },
    "id": "XPtHhW1Y7w-J"
   },
   "outputs": [],
   "source": [
    "import pandas as pd\n",
    "import matplotlib.pyplot as plt\n",
    "import seaborn as sns"
   ]
  },
  {
   "cell_type": "markdown",
   "metadata": {
    "id": "JyHJauePjJM7"
   },
   "source": [
    "# 3.1. Dataset Preprocessing"
   ]
  },
  {
   "cell_type": "markdown",
   "metadata": {
    "id": "uB_kl8WF7_iU"
   },
   "source": [
    "## Understanding the Dataset"
   ]
  },
  {
   "cell_type": "code",
   "execution_count": 2,
   "metadata": {
    "colab": {
     "base_uri": "https://localhost:8080/",
     "height": 206
    },
    "executionInfo": {
     "elapsed": 28,
     "status": "ok",
     "timestamp": 1731004992959,
     "user": {
      "displayName": "taravat part",
      "userId": "08819793569330919526"
     },
     "user_tz": -60
    },
    "id": "DgWFsUZHSeuQ",
    "outputId": "f4beacbc-8517-400c-dff4-e3fd98e984b3"
   },
   "outputs": [
    {
     "data": {
      "text/html": [
       "<div>\n",
       "<style scoped>\n",
       "    .dataframe tbody tr th:only-of-type {\n",
       "        vertical-align: middle;\n",
       "    }\n",
       "\n",
       "    .dataframe tbody tr th {\n",
       "        vertical-align: top;\n",
       "    }\n",
       "\n",
       "    .dataframe thead th {\n",
       "        text-align: right;\n",
       "    }\n",
       "</style>\n",
       "<table border=\"1\" class=\"dataframe\">\n",
       "  <thead>\n",
       "    <tr style=\"text-align: right;\">\n",
       "      <th></th>\n",
       "      <th>Pregnancies</th>\n",
       "      <th>Glucose</th>\n",
       "      <th>BloodPressure</th>\n",
       "      <th>SkinThickness</th>\n",
       "      <th>Insulin</th>\n",
       "      <th>BMI</th>\n",
       "      <th>DiabetesPedigreeFunction</th>\n",
       "      <th>Age</th>\n",
       "      <th>Outcome</th>\n",
       "    </tr>\n",
       "  </thead>\n",
       "  <tbody>\n",
       "    <tr>\n",
       "      <th>0</th>\n",
       "      <td>6</td>\n",
       "      <td>148</td>\n",
       "      <td>72</td>\n",
       "      <td>35.0</td>\n",
       "      <td>0</td>\n",
       "      <td>33.6</td>\n",
       "      <td>0.627</td>\n",
       "      <td>50</td>\n",
       "      <td>1</td>\n",
       "    </tr>\n",
       "    <tr>\n",
       "      <th>1</th>\n",
       "      <td>1</td>\n",
       "      <td>85</td>\n",
       "      <td>66</td>\n",
       "      <td>29.0</td>\n",
       "      <td>0</td>\n",
       "      <td>26.6</td>\n",
       "      <td>0.351</td>\n",
       "      <td>31</td>\n",
       "      <td>0</td>\n",
       "    </tr>\n",
       "    <tr>\n",
       "      <th>2</th>\n",
       "      <td>8</td>\n",
       "      <td>183</td>\n",
       "      <td>64</td>\n",
       "      <td>0.0</td>\n",
       "      <td>0</td>\n",
       "      <td>23.3</td>\n",
       "      <td>0.672</td>\n",
       "      <td>32</td>\n",
       "      <td>1</td>\n",
       "    </tr>\n",
       "    <tr>\n",
       "      <th>3</th>\n",
       "      <td>1</td>\n",
       "      <td>89</td>\n",
       "      <td>66</td>\n",
       "      <td>23.0</td>\n",
       "      <td>94</td>\n",
       "      <td>28.1</td>\n",
       "      <td>0.167</td>\n",
       "      <td>21</td>\n",
       "      <td>0</td>\n",
       "    </tr>\n",
       "    <tr>\n",
       "      <th>4</th>\n",
       "      <td>0</td>\n",
       "      <td>137</td>\n",
       "      <td>40</td>\n",
       "      <td>35.0</td>\n",
       "      <td>168</td>\n",
       "      <td>43.1</td>\n",
       "      <td>2.288</td>\n",
       "      <td>33</td>\n",
       "      <td>1</td>\n",
       "    </tr>\n",
       "  </tbody>\n",
       "</table>\n",
       "</div>"
      ],
      "text/plain": [
       "   Pregnancies  Glucose  BloodPressure  SkinThickness  Insulin   BMI  \\\n",
       "0            6      148             72           35.0        0  33.6   \n",
       "1            1       85             66           29.0        0  26.6   \n",
       "2            8      183             64            0.0        0  23.3   \n",
       "3            1       89             66           23.0       94  28.1   \n",
       "4            0      137             40           35.0      168  43.1   \n",
       "\n",
       "   DiabetesPedigreeFunction  Age  Outcome  \n",
       "0                     0.627   50        1  \n",
       "1                     0.351   31        0  \n",
       "2                     0.672   32        1  \n",
       "3                     0.167   21        0  \n",
       "4                     2.288   33        1  "
      ]
     },
     "execution_count": 2,
     "metadata": {},
     "output_type": "execute_result"
    }
   ],
   "source": [
    "# Read the dataset\n",
    "dataset = pd.read_csv('diabetes.csv')\n",
    "dataset.head()"
   ]
  },
  {
   "cell_type": "code",
   "execution_count": 3,
   "metadata": {
    "colab": {
     "base_uri": "https://localhost:8080/"
    },
    "executionInfo": {
     "elapsed": 25,
     "status": "ok",
     "timestamp": 1731004992959,
     "user": {
      "displayName": "taravat part",
      "userId": "08819793569330919526"
     },
     "user_tz": -60
    },
    "id": "I1YqdsqlQxRA",
    "outputId": "8d92cb43-dfcb-4107-fedb-4459dd105d69"
   },
   "outputs": [
    {
     "name": "stdout",
     "output_type": "stream",
     "text": [
      "number of samples in the dataset 768\n",
      "number of features in the dataset 8\n"
     ]
    }
   ],
   "source": [
    "print('number of samples in the dataset',dataset.shape[0])\n",
    "print('number of features in the dataset',dataset.shape[1]-1)"
   ]
  },
  {
   "cell_type": "code",
   "execution_count": 4,
   "metadata": {
    "colab": {
     "base_uri": "https://localhost:8080/"
    },
    "executionInfo": {
     "elapsed": 23,
     "status": "ok",
     "timestamp": 1731004992959,
     "user": {
      "displayName": "taravat part",
      "userId": "08819793569330919526"
     },
     "user_tz": -60
    },
    "id": "MVQmwDZTXBNH",
    "outputId": "299508f3-7e78-4e0c-8086-7568ef221a6a"
   },
   "outputs": [
    {
     "name": "stdout",
     "output_type": "stream",
     "text": [
      "<class 'pandas.core.frame.DataFrame'>\n",
      "RangeIndex: 768 entries, 0 to 767\n",
      "Data columns (total 9 columns):\n",
      " #   Column                    Non-Null Count  Dtype  \n",
      "---  ------                    --------------  -----  \n",
      " 0   Pregnancies               768 non-null    int64  \n",
      " 1   Glucose                   768 non-null    int64  \n",
      " 2   BloodPressure             768 non-null    int64  \n",
      " 3   SkinThickness             762 non-null    float64\n",
      " 4   Insulin                   768 non-null    int64  \n",
      " 5   BMI                       763 non-null    float64\n",
      " 6   DiabetesPedigreeFunction  768 non-null    float64\n",
      " 7   Age                       768 non-null    int64  \n",
      " 8   Outcome                   768 non-null    int64  \n",
      "dtypes: float64(3), int64(6)\n",
      "memory usage: 54.1 KB\n"
     ]
    }
   ],
   "source": [
    "dataset.info()"
   ]
  },
  {
   "cell_type": "markdown",
   "metadata": {
    "id": "l2JEcm0raIcQ"
   },
   "source": [
    "## Handling missing values in the dataset\n",
    "Missing values represent incomplete information in a dataset. Removing null values ensures that the dataset is complete and ready for analysis or modeling. It prevents errors in machine learning models, which typically cannot handle missing data. There are various techniques to handle missing values in a dataset:\n",
    "\n",
    "\n",
    "1.   Deleting rows with missing values\n",
    "2.   Imputation techniques: Replacing the missong value with the mean, mode or median of the non-missing values in the respective feature.\n",
    "\n",
    "choose one of the above methods to handle missing values in the dataset.\n",
    "\n"
   ]
  },
  {
   "cell_type": "code",
   "execution_count": 5,
   "metadata": {
    "colab": {
     "base_uri": "https://localhost:8080/"
    },
    "executionInfo": {
     "elapsed": 406,
     "status": "ok",
     "timestamp": 1731146472940,
     "user": {
      "displayName": "taravat part",
      "userId": "08819793569330919526"
     },
     "user_tz": -60
    },
    "id": "ONhR4X18TAm7",
    "outputId": "63fb6992-e179-4c4d-ed14-8131c127fbd3"
   },
   "outputs": [
    {
     "name": "stdout",
     "output_type": "stream",
     "text": [
      "Count of null values in each column before removing: Pregnancies                 0\n",
      "Glucose                     0\n",
      "BloodPressure               0\n",
      "SkinThickness               6\n",
      "Insulin                     0\n",
      "BMI                         5\n",
      "DiabetesPedigreeFunction    0\n",
      "Age                         0\n",
      "Outcome                     0\n",
      "dtype: int64\n",
      "\n",
      "Count of null values in each column after removing: Pregnancies                 0\n",
      "Glucose                     0\n",
      "BloodPressure               0\n",
      "SkinThickness               0\n",
      "Insulin                     0\n",
      "BMI                         0\n",
      "DiabetesPedigreeFunction    0\n",
      "Age                         0\n",
      "Outcome                     0\n",
      "dtype: int64\n"
     ]
    },
    {
     "name": "stderr",
     "output_type": "stream",
     "text": [
      "C:\\Users\\monster\\AppData\\Local\\Temp\\ipykernel_20344\\3482469717.py:10: FutureWarning: A value is trying to be set on a copy of a DataFrame or Series through chained assignment using an inplace method.\n",
      "The behavior will change in pandas 3.0. This inplace method will never work because the intermediate object on which we are setting values always behaves as a copy.\n",
      "\n",
      "For example, when doing 'df[col].method(value, inplace=True)', try using 'df.method({col: value}, inplace=True)' or df[col] = df[col].method(value) instead, to perform the operation inplace on the original object.\n",
      "\n",
      "\n",
      "  dataset[column].fillna(value, inplace=True)\n"
     ]
    }
   ],
   "source": [
    "# TODO: Print the count of null values in each column\n",
    "print(\"Count of null values in each column before removing:\", dataset.isnull().sum())\n",
    "\n",
    "\n",
    "# TODO: Implement a method to remove rows with null values\n",
    "\n",
    "\n",
    "for column in dataset.columns:\n",
    "    value = dataset[column].mean()\n",
    "    dataset[column].fillna(value, inplace=True)\n",
    "# Step 2: Verify that null values have been removed by printing the count again\n",
    "print(\"\\nCount of null values in each column after removing:\", dataset.isnull().sum())\n"
   ]
  },
  {
   "cell_type": "markdown",
   "metadata": {
    "id": "UPfEXSlocBUe"
   },
   "source": [
    "## Handling outliers in the dataset\n",
    "An outlier is a data point that differs significantly from the majority of other points in a dataset. It is an unusually high or low value. In Particular,The SVM algorith is sensitive to outliers.The sensitivity of SVM to outliers stems from its reliance on support vectors to define the optimal hyperplane. Thus, outliers can substantially skew the positioning of the hyperplane. there are various methods to handle outliers. In this exercise, we want to first utilize box-plot based methods to visualize the data and identify the outliers. Then we will use IQR to remove the outliers. in the following paragraphs, we will explain these methods in detail.\n",
    "\n",
    "\n"
   ]
  },
  {
   "cell_type": "markdown",
   "metadata": {
    "id": "zLHq7-uqfCPy"
   },
   "source": [
    "**Understanding the Boxplot structure:**\n",
    "A boxplot summarizes the distribution of data by showing the minimum, first quartile (Q1), median (Q2), third quartile (Q3), and maximum values. It provides a clear visualization of the spread and skewness of the data, and any points lying outside the “whiskers” are considered potential outliers.\n"
   ]
  },
  {
   "cell_type": "markdown",
   "metadata": {
    "id": "rrZ-eBo5fGcw"
   },
   "source": [
    "Lets display the boxplots for features in the dataset and identify the outliers:"
   ]
  },
  {
   "cell_type": "code",
   "execution_count": 6,
   "metadata": {
    "colab": {
     "base_uri": "https://localhost:8080/",
     "height": 552
    },
    "executionInfo": {
     "elapsed": 3606,
     "status": "ok",
     "timestamp": 1731004996547,
     "user": {
      "displayName": "taravat part",
      "userId": "08819793569330919526"
     },
     "user_tz": -60
    },
    "id": "4s0ghsp48oCO",
    "outputId": "60497ab2-7f70-4ce9-d942-46efea189b53"
   },
   "outputs": [
    {
     "data": {
      "image/png": "[encoded data removed]",
      "text/plain": [
       "<Figure size 1600x800 with 8 Axes>"
      ]
     },
     "metadata": {},
     "output_type": "display_data"
    }
   ],
   "source": [
    "X = dataset.iloc[:,:-1]\n",
    "\n",
    "# Set up the subplot grid (4 columns, 2 rows)\n",
    "fig, axes = plt.subplots(2, 4, figsize=(16, 8))\n",
    "\n",
    "# Flatten the axes array to make indexing easier\n",
    "axes = axes.flatten()\n",
    "\n",
    "# Plot a boxplot for each feature in the dataset (excluding the last column)\n",
    "for i, column in enumerate(X.columns):\n",
    "    sns.boxplot(x=X[column], ax=axes[i])\n",
    "    axes[i].set_title(f'Boxplot for {column}')\n",
    "\n",
    "# Adjust layout\n",
    "plt.tight_layout()\n",
    "plt.show()"
   ]
  },
  {
   "cell_type": "markdown",
   "metadata": {
    "id": "8I69tECxhuiO"
   },
   "source": [
    "This is how we can remove the outliers:\n",
    "first  \n",
    "\n",
    "1.   calculate the Q1 (25th percentile) and Q3 (75th percentile) for each column.\n",
    "2.   compute the Interquartile Range (IQR). IQR (Interquartile Range) is the difference between the 75th percentile (Q3) and the 25th percentile (Q1) of a dataset, representing the range where the middle 50% of the data lies.\n",
    "\n",
    "3.   Using the IQR, define lower and upper bounds beyond which data points are considered outliers.\n",
    "\n",
    "\n",
    "\n"
   ]
  },
  {
   "cell_type": "code",
   "execution_count": 7,
   "metadata": {
    "executionInfo": {
     "elapsed": 29,
     "status": "ok",
     "timestamp": 1731004996548,
     "user": {
      "displayName": "taravat part",
      "userId": "08819793569330919526"
     },
     "user_tz": -60
    },
    "id": "BX_aUTb5Ypbz"
   },
   "outputs": [
    {
     "name": "stdout",
     "output_type": "stream",
     "text": [
      "<class 'pandas.core.frame.DataFrame'>\n",
      "Index: 636 entries, 0 to 767\n",
      "Data columns (total 9 columns):\n",
      " #   Column                    Non-Null Count  Dtype  \n",
      "---  ------                    --------------  -----  \n",
      " 0   Pregnancies               636 non-null    int64  \n",
      " 1   Glucose                   636 non-null    int64  \n",
      " 2   BloodPressure             636 non-null    int64  \n",
      " 3   SkinThickness             636 non-null    float64\n",
      " 4   Insulin                   636 non-null    int64  \n",
      " 5   BMI                       636 non-null    float64\n",
      " 6   DiabetesPedigreeFunction  636 non-null    float64\n",
      " 7   Age                       636 non-null    int64  \n",
      " 8   Outcome                   636 non-null    int64  \n",
      "dtypes: float64(3), int64(6)\n",
      "memory usage: 49.7 KB\n"
     ]
    }
   ],
   "source": [
    "# TODO: Calculate Q1 and Q2 for each column\n",
    "for column in dataset.columns:\n",
    "    Q1 = dataset[column].quantile(0.25)\n",
    "    Q3 = dataset[column].quantile(0.75)\n",
    "# TODO: Calculate the lower and upper bounds for each column\n",
    "    IQR = Q3 - Q1\n",
    "    \n",
    "    lower_bound = Q1 - 1.5 * IQR\n",
    "    upper_bound = Q3 + 1.5 * IQR\n",
    "\n",
    "# TODO: Keep only rows where all columns are within bounds\n",
    "    dataset = dataset[(dataset[column] >= lower_bound) & (dataset[column] <= upper_bound)]\n",
    "    \n",
    "dataset.info()"
   ]
  },
  {
   "cell_type": "markdown",
   "metadata": {
    "id": "QhYyaNhkkLTa"
   },
   "source": [
    "## Standardization\n",
    "Standardize the features values to have a mean of zero and standard deviation of 1. This ensures that all features contribute equally to the model"
   ]
  },
  {
   "cell_type": "code",
   "execution_count": 8,
   "metadata": {
    "executionInfo": {
     "elapsed": 29,
     "status": "ok",
     "timestamp": 1731004996549,
     "user": {
      "displayName": "taravat part",
      "userId": "08819793569330919526"
     },
     "user_tz": -60
    },
    "id": "EvswhmzM1yrd"
   },
   "outputs": [],
   "source": [
    "X = dataset.iloc[:,:-1]\n",
    "Y = dataset.iloc[:,-1]"
   ]
  },
  {
   "cell_type": "code",
   "execution_count": 9,
   "metadata": {
    "executionInfo": {
     "elapsed": 456,
     "status": "ok",
     "timestamp": 1731004996978,
     "user": {
      "displayName": "taravat part",
      "userId": "08819793569330919526"
     },
     "user_tz": -60
    },
    "id": "jQN4eMv3kNLX"
   },
   "outputs": [],
   "source": [
    "from sklearn.preprocessing import StandardScaler\n",
    "\n",
    "scaler = StandardScaler()\n",
    "\n",
    "X_standardized = scaler.fit_transform(X)\n",
    "\n",
    "# TODO: Standardize feature values:\n"
   ]
  },
  {
   "cell_type": "markdown",
   "metadata": {
    "id": "f7DJMqHjkp74"
   },
   "source": [
    "## Split the data into train and test"
   ]
  },
  {
   "cell_type": "code",
   "execution_count": 10,
   "metadata": {
    "executionInfo": {
     "elapsed": 39,
     "status": "ok",
     "timestamp": 1731004996979,
     "user": {
      "displayName": "taravat part",
      "userId": "08819793569330919526"
     },
     "user_tz": -60
    },
    "id": "4VmwCNoUktVn"
   },
   "outputs": [],
   "source": [
    "from sklearn.model_selection import train_test_split\n",
    "\n",
    "# TODO: Split the dataset into training and testing sets.\n",
    "# Use 80% of the data for training and 20% for testing.\n",
    "X_train, X_test, Y_train, Y_test = train_test_split(X, Y, test_size=0.2)\n"
   ]
  },
  {
   "cell_type": "code",
   "execution_count": 15,
   "metadata": {},
   "outputs": [
    {
     "name": "stdout",
     "output_type": "stream",
     "text": [
      "<class 'pandas.core.frame.DataFrame'>\n",
      "Index: 508 entries, 118 to 394\n",
      "Data columns (total 8 columns):\n",
      " #   Column                    Non-Null Count  Dtype  \n",
      "---  ------                    --------------  -----  \n",
      " 0   Pregnancies               508 non-null    int64  \n",
      " 1   Glucose                   508 non-null    int64  \n",
      " 2   BloodPressure             508 non-null    int64  \n",
      " 3   SkinThickness             508 non-null    float64\n",
      " 4   Insulin                   508 non-null    int64  \n",
      " 5   BMI                       508 non-null    float64\n",
      " 6   DiabetesPedigreeFunction  508 non-null    float64\n",
      " 7   Age                       508 non-null    int64  \n",
      "dtypes: float64(3), int64(5)\n",
      "memory usage: 35.7 KB\n",
      "<class 'pandas.core.series.Series'>\n",
      "Index: 508 entries, 118 to 394\n",
      "Series name: Outcome\n",
      "Non-Null Count  Dtype\n",
      "--------------  -----\n",
      "508 non-null    int64\n",
      "dtypes: int64(1)\n",
      "memory usage: 7.9 KB\n"
     ]
    }
   ],
   "source": [
    "X_train.info()\n",
    "Y_train.info()"
   ]
  },
  {
   "cell_type": "markdown",
   "metadata": {
    "id": "aNVvaevtk1Jc"
   },
   "source": [
    "# 3.2. Train a linear svm and report its accuracy"
   ]
  },
  {
   "cell_type": "code",
   "execution_count": 16,
   "metadata": {
    "colab": {
     "base_uri": "https://localhost:8080/"
    },
    "executionInfo": {
     "elapsed": 33,
     "status": "ok",
     "timestamp": 1731004996979,
     "user": {
      "displayName": "taravat part",
      "userId": "08819793569330919526"
     },
     "user_tz": -60
    },
    "id": "ptXcxK_ck3Lv",
    "outputId": "c17bf803-7ef8-4b12-c35b-959f0837c8fe"
   },
   "outputs": [
    {
     "name": "stdout",
     "output_type": "stream",
     "text": [
      "Training Accuracy: 0.7854330708661418\n",
      "Testing Accuracy: 0.8125\n"
     ]
    }
   ],
   "source": [
    "from sklearn import svm\n",
    "from sklearn.metrics import accuracy_score\n",
    "\n",
    "#TODO: Fit a linear svm on train data\n",
    "model = svm.SVC(kernel='linear')\n",
    "\n",
    "model.fit(X_train, Y_train)\n",
    "# TODO: Report the Accuracy on Train data\n",
    "Y_train_pred = model.predict(X_train)\n",
    "Y_test_pred = model.predict(X_test)\n",
    "# TODO: Report the Accuracy on Test data\n",
    "train_accuracy = accuracy_score(Y_train, Y_train_pred)\n",
    "print(\"Training Accuracy:\", train_accuracy)\n",
    "\n",
    "test_accuracy = accuracy_score(Y_test, Y_test_pred)\n",
    "print(\"Testing Accuracy:\", test_accuracy)"
   ]
  },
  {
   "cell_type": "markdown",
   "metadata": {
    "id": "NT5Y25YBlCnE"
   },
   "source": [
    "# 3.3. Use nonlinear kernels and report model accuracy\n"
   ]
  },
  {
   "cell_type": "code",
   "execution_count": 17,
   "metadata": {
    "colab": {
     "base_uri": "https://localhost:8080/"
    },
    "executionInfo": {
     "elapsed": 374,
     "status": "ok",
     "timestamp": 1731005149835,
     "user": {
      "displayName": "taravat part",
      "userId": "08819793569330919526"
     },
     "user_tz": -60
    },
    "id": "w3AfTTSflEhr",
    "outputId": "35df8c4b-6ef1-48c2-a4eb-fb30de586fa9"
   },
   "outputs": [
    {
     "name": "stdout",
     "output_type": "stream",
     "text": [
      "Training Accuracy: 0.7736220472440944\n",
      "Testing Accuracy: 0.8203125\n"
     ]
    }
   ],
   "source": [
    "#TODO: Fit a linear svm on train data\n",
    "model = svm.SVC(kernel='poly')\n",
    "\n",
    "model.fit(X_train, Y_train)\n",
    "# TODO: Report the Accuracy on Train data\n",
    "Y_train_pred = model.predict(X_train)\n",
    "Y_test_pred = model.predict(X_test)\n",
    "# TODO: Report the Accuracy on Test data\n",
    "train_accuracy = accuracy_score(Y_train, Y_train_pred)\n",
    "print(\"Training Accuracy:\", train_accuracy)\n",
    "\n",
    "test_accuracy = accuracy_score(Y_test, Y_test_pred)\n",
    "print(\"Testing Accuracy:\", test_accuracy)"
   ]
  },
  {
   "cell_type": "markdown",
   "metadata": {
    "id": "MnnZejiD9Ll1"
   },
   "source": [
    "Question: Did nonlinear kernels improve accuracy? Yes"
   ]
  },
  {
   "cell_type": "markdown",
   "metadata": {
    "id": "4dfJn0k2Yi0k"
   },
   "source": [
    "# 3.4. **Next Mile:** Find the best Hyperparameters automatically\n",
    "you can use Grid Search in scikit learn to explore different hyperparameter combinations and find the best ones. Let's implemenet it step by step!"
   ]
  },
  {
   "cell_type": "code",
   "execution_count": 13,
   "metadata": {
    "id": "NG0ndNCFZD1Y"
   },
   "outputs": [],
   "source": [
    "from sklearn.model_selection import GridSearchCV\n",
    "\n",
    "param_grid = {\n",
    "    'C': [0.1, 1, 10, 100],\n",
    "    'kernel': ['rbf', 'linear', 'poly', 'sigmoid']\n",
    "}"
   ]
  },
  {
   "cell_type": "code",
   "execution_count": 18,
   "metadata": {
    "id": "ZwEkaQ5_ZkUS"
   },
   "outputs": [
    {
     "name": "stdout",
     "output_type": "stream",
     "text": [
      "Best Parameters: {'C': 1, 'kernel': 'linear'}\n",
      "Best Cross-Validation Score: 0.7756552125800814\n",
      "Training Accuracy: 0.7854330708661418\n",
      "Testing Accuracy: 0.8125\n"
     ]
    }
   ],
   "source": [
    "# TODO: Initialize the SVM classifier\n",
    "svm_model = svm.SVC()\n",
    "# TODO: Initialize GridSearchCV with cross-validation\n",
    "grid_search = GridSearchCV(estimator=svm_model, param_grid=param_grid, cv=5, scoring='accuracy')\n",
    "\n",
    "# TODO: Fit grid search\n",
    "grid_search.fit(X_train, Y_train)\n",
    "# TODO: Print the best parameters and best score\n",
    "print(\"Best Parameters:\", grid_search.best_params_)\n",
    "print(\"Best Cross-Validation Score:\", grid_search.best_score_)\n",
    "# TODO: Use the best estimator to make predictions\n",
    "best_model = grid_search.best_estimator_\n",
    "Y_train_pred = best_model.predict(X_train)\n",
    "Y_test_pred = best_model.predict(X_test)\n",
    "# TODO: Report the Accuracy on Train data\n",
    "train_accuracy = accuracy_score(Y_train, Y_train_pred)\n",
    "print(\"Training Accuracy:\", train_accuracy)\n",
    "# TODO: Report the Accuracy on Test data\n",
    "test_accuracy = accuracy_score(Y_test, Y_test_pred)\n",
    "print(\"Testing Accuracy:\", test_accuracy)"
   ]
  },
  {
   "cell_type": "code",
   "execution_count": null,
   "metadata": {},
   "outputs": [],
   "source": []
  }
 ],
 "metadata": {
  "colab": {
   "authorship_tag": "ABX9TyPyCRhYJVwll1Ang+jb8KBz",
   "mount_file_id": "1_4mrYrDk03-eNehds6SArKwjarmeaBam",
   "provenance": []
  },
  "kernelspec": {
   "display_name": "Python 3 (ipykernel)",
   "language": "python",
   "name": "python3"
  },
  "language_info": {
   "codemirror_mode": {
    "name": "ipython",
    "version": 3
   },
   "file_extension": ".py",
   "mimetype": "text/x-python",
   "name": "python",
   "nbconvert_exporter": "python",
   "pygments_lexer": "ipython3",
   "version": "3.11.10"
  }
 },
 "nbformat": 4,
 "nbformat_minor": 4
}
