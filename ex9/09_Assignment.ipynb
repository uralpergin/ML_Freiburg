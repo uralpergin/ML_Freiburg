{
 "cells": [
  {
   "cell_type": "markdown",
   "metadata": {},
   "source": [
    "# Assignment 09\n",
    "## Gradient-Boosted Decision Trees"
   ]
  },
  {
   "cell_type": "markdown",
   "metadata": {},
   "source": [
    "### Imports"
   ]
  },
  {
   "cell_type": "code",
   "execution_count": null,
   "metadata": {},
   "outputs": [],
   "source": [
    "import numpy as np\n",
    "from sklearn.ensemble import GradientBoostingClassifier\n",
    "import matplotlib.pyplot as plt"
   ]
  },
  {
   "cell_type": "markdown",
   "metadata": {},
   "source": [
    "#### 2. Given the following data of table tennis matches of the ML team against a team of Robot Learning Engineers (RLE). $x_1$ denotes the length of the racket used by the ML team, $x_2$ its weight. $y$ encodes the outcome of the match: $y=1$ means the game was lost, $y=0$ means the game was won."
   ]
  },
  {
   "cell_type": "code",
   "execution_count": null,
   "metadata": {},
   "outputs": [],
   "source": [
    "data = np.array([\n",
    "    # x_1, x_2, y\n",
    "    [   1,   2, 1],  # noqa\n",
    "    [   1,   3, 1],  # noqa\n",
    "    [   4,   1, 1],  # noqa\n",
    "    [   2,   1, 0],  # noqa\n",
    "    [   3,   2, 0],  # noqa\n",
    "    [   4,   3, 0],  # noqa\n",
    "])\n",
    "\n",
    "# TODO: Split the data into inputs and outputs\n",
    "x = ...\n",
    "y = ..."
   ]
  },
  {
   "cell_type": "markdown",
   "metadata": {},
   "source": [
    "##### (c) Plot the data."
   ]
  },
  {
   "cell_type": "code",
   "execution_count": null,
   "metadata": {},
   "outputs": [],
   "source": [
    "# TODO: Plot the data\n"
   ]
  },
  {
   "cell_type": "markdown",
   "metadata": {},
   "source": [
    "#### (d) Use `sklearn.ensemble.GradientBoostingClassifier` to check how many boosting stages $n_\\mathrm{estimators}$ are required for the right prediction."
   ]
  },
  {
   "cell_type": "code",
   "execution_count": null,
   "metadata": {},
   "outputs": [],
   "source": [
    "def create_fit_and_predict_gbdt(\n",
    "        n_estimators: int,\n",
    "        x: np.ndarray,\n",
    "        y: np.ndarray,\n",
    "):\n",
    "    # TODO: Create a GB Classifier object\n",
    "\n",
    "    classifier = ...\n",
    "\n",
    "    # TODO: Train the classifier\n",
    "    \n",
    "\n",
    "    # TODO: Predict\n",
    "    y_hat = ...\n",
    "\n",
    "    return classifier, y_hat"
   ]
  },
  {
   "cell_type": "code",
   "execution_count": null,
   "metadata": {},
   "outputs": [],
   "source": [
    "# TODO: Check multiple values of n_samples:\n",
    "n_samples = ...\n",
    "\n",
    "results = {...}\n",
    "\n",
    "print(f\"{'y':>3}\", y)\n",
    "for n, (classifier, pred) in results.items():\n",
    "    print(f\"{n:>3d}\", pred)"
   ]
  }
 ],
 "metadata": {
  "kernelspec": {
   "display_name": "gen",
   "language": "python",
   "name": "python3"
  },
  "language_info": {
   "codemirror_mode": {
    "name": "ipython",
    "version": 3
   },
   "file_extension": ".py",
   "mimetype": "text/x-python",
   "name": "python",
   "nbconvert_exporter": "python",
   "pygments_lexer": "ipython3",
   "version": "3.11.0"
  }
 },
 "nbformat": 4,
 "nbformat_minor": 2
}
