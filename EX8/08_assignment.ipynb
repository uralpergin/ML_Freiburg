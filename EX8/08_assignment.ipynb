{
 "cells": [
  {
   "cell_type": "code",
   "execution_count": 9,
   "metadata": {},
   "outputs": [],
   "source": [
    "from matplotlib import pyplot as plt\n",
    "import numpy as np\n",
    "from sklearn import datasets\n",
    "from sklearn.model_selection import train_test_split\n",
    "from sklearn.tree import DecisionTreeClassifier\n",
    "from sklearn.metrics import accuracy_score"
   ]
  },
  {
   "cell_type": "code",
   "execution_count": 10,
   "metadata": {},
   "outputs": [],
   "source": [
    "np.random.seed(1)\n",
    "\n",
    "# Load the iris dataset\n",
    "iris = datasets.load_iris()\n",
    "x = iris.data\n",
    "y = iris.target\n",
    "\n",
    "X_train, X_test, y_train, y_test = train_test_split(x, y, random_state=1)"
   ]
  },
  {
   "cell_type": "markdown",
   "metadata": {},
   "source": [
    "## 2.1. Implement the missing code parts"
   ]
  },
  {
   "cell_type": "code",
   "execution_count": 11,
   "metadata": {},
   "outputs": [],
   "source": [
    "def bootstrap(\n",
    "        x: np.array,\n",
    "        y: np.array,\n",
    "        target_size: int\n",
    "    ) -> tuple:\n",
    "    \"\"\"\n",
    "    Implement bootsrapping without using sklearn!\n",
    "\n",
    "    Args:\n",
    "        x (ndarray):\n",
    "            The data in shape NxM\n",
    "        y (ndarray):\n",
    "            The target in shape N\n",
    "        target_size (int):\n",
    "            The size of the sample to return\n",
    "    \n",
    "    Returns:\n",
    "        tuple(ndarray, ndarray):\n",
    "            The bootstrapped sample where the data is at the first\n",
    "            postion and the target at the second.\n",
    "    \"\"\"\n",
    "    assert x.shape[0] == len(y)\n",
    "\n",
    "    # TODO: Implement Bootsrapping\n",
    "    indices = np.random.choice(x.shape[0], size=target_size, replace=True)\n",
    "    x_bootstrap = x[indices]\n",
    "    y_bootstrap = y[indices]\n",
    "    \n",
    "    return x_bootstrap, y_bootstrap"
   ]
  },
  {
   "cell_type": "code",
   "execution_count": 12,
   "metadata": {},
   "outputs": [],
   "source": [
    "class RandomForestClassifier():\n",
    "    \"\"\"\n",
    "    A random forest classifier.\n",
    "    \"\"\"\n",
    "\n",
    "    def __init__(\n",
    "            self,\n",
    "            num_trees: int = 100,\n",
    "            bootstrapping_size: int = 50,\n",
    "            feature_subset: int = 3\n",
    "        ):\n",
    "        \"\"\"\n",
    "        Initializes the RandomForestClassifier.\n",
    "\n",
    "        Args:\n",
    "            num_trees (int):\n",
    "                Number of weak learner trees.\n",
    "            bootstrapping_size (int):\n",
    "                The size of the bootstrapped samples.\n",
    "            feature_subset (int):\n",
    "                The number of features to use for the splitting\n",
    "                criteria.\n",
    "        \"\"\"\n",
    "        # TODO: Implement initialization of the RandomForrestClassifier\n",
    "        raise NotImplementedError\n",
    "    \n",
    "    def fit(\n",
    "            self,\n",
    "            x: np.array,\n",
    "            y: np.array\n",
    "        ):\n",
    "        \"\"\"\n",
    "        Fitting the random forest to the data given.\n",
    "\n",
    "        Args:\n",
    "            x (ndarray):\n",
    "                The data in shape NxM.\n",
    "            y (ndarray):\n",
    "                The target in shape N.\n",
    "        \"\"\"\n",
    "        assert x.ndim == 2 and y.ndim == 1, \"Wrong dimensions for X!\"\n",
    "        assert x.shape[0] == len(y), \"Size of X and y does not match!\"\n",
    "        \n",
    "        # TODO: Implement the algorithm to learn a random forrest.\n",
    "        #       you may use sklearn.tree.DecisionThreeClassifier as the\n",
    "        #       implementation for the weak learner\n",
    "\n",
    "        raise NotImplementedError\n",
    "    \n",
    "    def predict(self, x: np.array) -> np.array:\n",
    "        \"\"\"\n",
    "        Predict the target class for the data X using majority voting.\n",
    "\n",
    "        Args:\n",
    "            x (ndarray):\n",
    "                The data in shape NxM.\n",
    "        \n",
    "        Returns:\n",
    "            (ndarray):\n",
    "                The predictions in shape N\n",
    "        \"\"\"\n",
    "        \n",
    "        assert x.ndim == 2\n",
    "\n",
    "        # TODO: Implement the prediction of the random forest.\n",
    "        \n",
    "        raise NotImplementedError"
   ]
  },
  {
   "cell_type": "markdown",
   "metadata": {},
   "source": [
    "## 2.2. What is the accuracy you get with the default hyperparameters?"
   ]
  },
  {
   "cell_type": "code",
   "execution_count": null,
   "metadata": {},
   "outputs": [],
   "source": [
    "# TODO: Create a random forest, fit it to the train data, generate\n",
    "#       predictions on the test inputs, and evaluate the accuracy of\n",
    "#       the model on the test data."
   ]
  },
  {
   "cell_type": "markdown",
   "metadata": {},
   "source": [
    "### 2.3. Set the value of `bootstrapping_size` to a lower number and then to a higher number than the default.<br/>How doest the accuracy change?<br/>Why is this happening?"
   ]
  },
  {
   "cell_type": "code",
   "execution_count": 14,
   "metadata": {},
   "outputs": [],
   "source": [
    "# TODO: Calculate the accuracy of models wit bootstrapping sizes\n",
    "#       ranging from 10 to 110."
   ]
  },
  {
   "cell_type": "code",
   "execution_count": null,
   "metadata": {},
   "outputs": [],
   "source": [
    "# TODO: Plot the accuracies for the different bootsrapping sizes"
   ]
  }
 ],
 "metadata": {
  "kernelspec": {
   "display_name": "Python 3 (ipykernel)",
   "language": "python",
   "name": "python3"
  },
  "language_info": {
   "codemirror_mode": {
    "name": "ipython",
    "version": 3
   },
   "file_extension": ".py",
   "mimetype": "text/x-python",
   "name": "python",
   "nbconvert_exporter": "python",
   "pygments_lexer": "ipython3",
   "version": "3.11.10"
  }
 },
 "nbformat": 4,
 "nbformat_minor": 4
}
